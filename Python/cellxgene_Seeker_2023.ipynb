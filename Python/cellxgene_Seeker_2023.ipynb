{
 "cells": [
  {
   "cell_type": "code",
   "execution_count": null,
   "id": "3ca1221c-6f22-4996-9b74-742c59eb1fe6",
   "metadata": {},
   "outputs": [],
   "source": [
    "import requests\n",
    "import os\n",
    "import scanpy as sc\n",
    "import numpy as np\n",
    "import pandas as pd\n",
    "import scipy.stats as stats\n",
    "import seaborn as sns\n",
    "import matplotlib.pyplot as plt\n",
    "from sklearn.linear_model import LinearRegression\n",
    "import gc\n"
   ]
  },
  {
   "cell_type": "markdown",
   "id": "ce27c7b6-61c8-4452-b979-609157c34466",
   "metadata": {},
   "source": [
    "## Set parameters and paths"
   ]
  },
  {
   "cell_type": "code",
   "execution_count": null,
   "id": "e8c150d9-6582-4902-ae01-4f75057e5aa6",
   "metadata": {},
   "outputs": [],
   "source": [
    "# Define parameters\n",
    "res = 1\n",
    "n_hvg = 2000"
   ]
  },
  {
   "cell_type": "code",
   "execution_count": null,
   "id": "540a26e5-5c6b-49f9-8340-434101aa77c7",
   "metadata": {},
   "outputs": [],
   "source": [
    "# Define the input and output directories\n",
    "input_dir = 'Input_files'\n",
    "output_dir = 'Output_Seeker_2023'\n",
    "\n",
    "# Create the output directory if it does not exist\n",
    "if not os.path.exists(input_dir):\n",
    "    os.makedirs(input_dir)\n",
    "if not os.path.exists(output_dir):\n",
    "    os.makedirs(output_dir)"
   ]
  },
  {
   "cell_type": "markdown",
   "id": "13a615df-c963-40d5-854d-dff34b105c1a",
   "metadata": {},
   "source": [
    "## Analysis for Seeker_2023_DS9"
   ]
  },
  {
   "cell_type": "markdown",
   "id": "3fefad77-0b44-4ccc-b805-ad0f52375b87",
   "metadata": {},
   "source": [
    "studyID = 'Seeker_2023'\n",
    "download_link = 'https://datasets.cellxgene.cziscience.com/32c319ef-10e2-4948-8b40-093d2f9d7cb5.h5ad'\n",
    "new_filename = f\"Input_files/{studyID}.h5ad\"\n",
    "response = requests.get(download_link)\n",
    "with open(new_filename, 'wb') as f:\n",
    "        f.write(response.content)\n",
    "print(f\"File downloaded and saved as {new_filename}\")"
   ]
  },
  {
   "cell_type": "code",
   "execution_count": null,
   "id": "75ca7a01-2799-45cf-bd1a-b354356dc609",
   "metadata": {},
   "outputs": [],
   "source": [
    "studyID = 'Seeker_2023'\n",
    "file = 'Seeker_2023.h5ad'\n",
    "print(f'Start process {studyID}')\n",
    "adata=sc.read_h5ad(os.path.join(input_dir,file))\n",
    "print(f'    Before process: number of obs {adata.n_obs}, number of var {adata.n_vars}')\n",
    "\n",
    "#adata.layers[\"counts\"]=adata.X.copy()\n",
    "adata.var['GeneID']=adata.var.index\n",
    "adata.var.set_index('feature_name',inplace=True)\n",
    "if adata.raw is not None:\n",
    "    adata.raw.var.set_index('feature_name', inplace=True)\n",
    "else:\n",
    "    print(\"    adata.raw is None, skipping setting index.\")\n",
    "adata.var[\"mt\"]=adata.var_names.str.startswith(\"MT-\")\n",
    "\n",
    "print(f'    Start QC')\n",
    "sc.pp.calculate_qc_metrics(adata,qc_vars=[\"mt\"],inplace=True,log1p=True)\n",
    "sc.pp.filter_genes(adata,min_cells=3)\n",
    "adata=adata[adata.obs['nFeature_RNA']>200,:]\n",
    "adata=adata[adata.obs['pct_counts_mt']<10,:]\n",
    "adata=adata[adata.obs['nCount_RNA']>400,:]\n",
    "adata=adata[adata.obs['nCount_RNA']<60000,:]\n",
    "print(f'    After process: number of obs {adata.n_obs}, number of var {adata.n_vars}')\n",
    "\n",
    "sc.pp.highly_variable_genes(adata,n_top_genes=n_hvg)\n",
    "sc.tl.pca(adata)\n",
    "sc.pp.neighbors(adata,n_neighbors=10,n_pcs=30)\n",
    "sc.tl.umap(adata)\n",
    "sc.tl.leiden(adata,resolution=res,n_iterations=2)\n"
   ]
  },
  {
   "cell_type": "code",
   "execution_count": null,
   "id": "e8e4b76c-0998-4278-954d-b96d22b1e8dd",
   "metadata": {},
   "outputs": [],
   "source": [
    "adata.obs['cell_type'].value_counts()"
   ]
  },
  {
   "cell_type": "code",
   "execution_count": null,
   "id": "ef844c56-ac56-4ec2-b3ce-8c553abc0992",
   "metadata": {},
   "outputs": [],
   "source": [
    "adata"
   ]
  },
  {
   "cell_type": "markdown",
   "id": "441cea23-e00d-42b2-9f37-80a17c82d9cc",
   "metadata": {},
   "source": [
    "#### Figure 7A"
   ]
  },
  {
   "cell_type": "code",
   "execution_count": null,
   "id": "f645e1f4-9e39-4495-83a2-15d570d932eb",
   "metadata": {},
   "outputs": [],
   "source": [
    "# Figure 7A\n",
    "print(f'    Start to plot {studyID}')\n",
    "sc.pl.umap(adata,color=['cell_type'],save = f'_{studyID}_allcelltypes_leiden_res{res}.pdf')"
   ]
  },
  {
   "cell_type": "code",
   "execution_count": null,
   "id": "b7204b14-d258-4d11-8ff8-b070cf288bac",
   "metadata": {},
   "outputs": [],
   "source": [
    "# Figure 7A\n",
    "from collections import OrderedDict\n",
    "goi = []\n",
    "gene_categories = {\n",
    "    \"microglia\": ['BHLHE41', 'CX3CR1', 'P2RY12','TREM2', 'TMEM119', 'HEXB', 'SALL1'],\n",
    "    \"CAM\": ['CD163', 'MRC1', 'LYVE1'],\n",
    "    \"oligodendrocytes\": [\"PLP1\", \"CNP\"],\n",
    "    \"precursor_cells\": [\"PDGFRA\", \"PTPRZ1\"],\n",
    "    \"astrocytes\": [\"GJA1\", \"GFAP\"],    \n",
    "    \"excitatory_neurons\": [\"SNAP25\", \"SLC17A7\"],\n",
    "    \"inhibitory_neurons\": [\"SNAP25\", \"GAD1\"],\n",
    "    \"reelin_positive_neurons\": [\"SNAP25\", \"RELN\"],\n",
    "    \"endothelial_cells_pericytes\": [\"CLDN5\", \"NOTCH3\"],\n",
    "    \"immune_cells\": [\"HLA-A\", \"PTPRC\"]\n",
    "}\n",
    "unique_genes = OrderedDict()\n",
    "for genes in gene_categories.values():\n",
    "    for gene in genes:\n",
    "        unique_genes[gene] = None\n",
    "        \n",
    "goi = list(unique_genes.keys())\n",
    "goi_in_adata = [gene for gene in goi if gene in adata.var_names]\n",
    "\n",
    "# Define the new order of levels\n",
    "new_order = ['microglial cell', 'central nervous system macrophage','oligodendrocyte', 'oligodendrocyte precursor cell', 'differentiation-committed oligodendrocyte precursor','astrocyte','neuron','GABAergic neuron','glutamatergic neuron','cerebellar granule cell','capillary endothelial cell','endothelial cell of artery','mural cell','vascular associated smooth muscle cell','leukocyte']\n",
    "adata.obs['cell_type'] = pd.Categorical(adata.obs['cell_type'], categories=new_order, ordered=True)\n",
    "print(adata.obs['cell_type'].cat.categories)\n",
    "\n",
    "sc.pl.dotplot(adata, goi_in_adata, groupby=\"cell_type\", standard_scale=\"var\",title=f'Gene expression in each cell type in {studyID}',save=f'{studyID}_celltype.pdf')"
   ]
  },
  {
   "cell_type": "markdown",
   "id": "6ad1b35d-4e11-43f7-b66b-0b8ff1d1f968",
   "metadata": {},
   "source": [
    "#### Supplementary figure 14A"
   ]
  },
  {
   "cell_type": "code",
   "execution_count": null,
   "id": "1a4976f4-2685-461b-893a-64e0d3674d89",
   "metadata": {},
   "outputs": [],
   "source": [
    "# Importing necessary libraries\n",
    "import scanpy as sc\n",
    "import seaborn as sns\n",
    "import matplotlib.pyplot as plt\n",
    "\n",
    "# Define the markers you are interested in\n",
    "markers = ['P2RY12','AIF1','C1QB','GPR34','CSF1R','SLCO2B1','TBXAS1','DOCK8','PCDH9','PLP1']\n",
    "\n",
    "# Loop over each marker to create a density plot on UMAP\n",
    "for marker in markers:\n",
    "    # Create a UMAP scatter plot colored by marker expression\n",
    "    sc.pl.umap(adata, color=marker, show=False, cmap='viridis', legend_loc=None,s=20)\n",
    "    \n",
    "    # Overlay density (this step is similar to Nebulosa, but done manually)\n",
    "    ax = plt.gca()  # Get current axis\n",
    "    \n",
    "    # Extract UMAP coordinates\n",
    "    x = adata.obsm['X_umap'][:, 0]  # UMAP 1 coordinates\n",
    "    y = adata.obsm['X_umap'][:, 1]  # UMAP 2 coordinates\n",
    "    \n",
    "    # Extract expression levels of the marker\n",
    "    expression = adata[:, marker].X.toarray().flatten()\n",
    "    \n",
    "   # Create a 2D histogram / density plot\n",
    "    hexbin_plot = ax.hexbin(x, y, C=expression, gridsize=70, cmap='inferno', reduce_C_function=np.mean, mincnt=1)\n",
    "\n",
    "    # Set axis labels and title\n",
    "    plt.xlabel('UMAP 1')\n",
    "    plt.ylabel('UMAP 2')\n",
    "    plt.title(f'Density plot for {marker}')\n",
    "\n",
    "    # Add the colorbar with the mappable hexbin plot\n",
    "    plt.colorbar(hexbin_plot, label='Density')\n",
    "    \n",
    "    # Save or show the figure\n",
    "    plt.savefig(f'figures/umap_density_{studyID}_{marker}.pdf')\n",
    "    plt.show()"
   ]
  },
  {
   "cell_type": "markdown",
   "id": "3243fc0c-1522-453e-acea-e36d25ee479a",
   "metadata": {},
   "source": [
    "#### Figure 7B"
   ]
  },
  {
   "cell_type": "code",
   "execution_count": null,
   "id": "193a2227-0c9c-4d42-a6f8-fda711eca1e6",
   "metadata": {},
   "outputs": [],
   "source": [
    "# Importing necessary libraries\n",
    "import scanpy as sc\n",
    "import seaborn as sns\n",
    "import matplotlib.pyplot as plt\n",
    "\n",
    "# Define the markers you are interested in\n",
    "markers = [\"CD22\",'BHLHE41']\n",
    "\n",
    "# Loop over each marker to create a density plot on UMAP\n",
    "for marker in markers:\n",
    "    # Create a UMAP scatter plot colored by marker expression\n",
    "    sc.pl.umap(adata, color=marker, show=False, cmap='viridis', legend_loc=None,s=20)\n",
    "    \n",
    "    # Overlay density (this step is similar to Nebulosa, but done manually)\n",
    "    ax = plt.gca()  # Get current axis\n",
    "    \n",
    "    # Extract UMAP coordinates\n",
    "    x = adata.obsm['X_umap'][:, 0]  # UMAP 1 coordinates\n",
    "    y = adata.obsm['X_umap'][:, 1]  # UMAP 2 coordinates\n",
    "    \n",
    "    # Extract expression levels of the marker\n",
    "    expression = adata[:, marker].X.toarray().flatten()\n",
    "    \n",
    "   # Create a 2D histogram / density plot\n",
    "    hexbin_plot = ax.hexbin(x, y, C=expression, gridsize=70, cmap='inferno', reduce_C_function=np.mean, mincnt=1)\n",
    "\n",
    "    # Set axis labels and title\n",
    "    plt.xlabel('UMAP 1')\n",
    "    plt.ylabel('UMAP 2')\n",
    "    plt.title(f'Density plot for {marker}')\n",
    "\n",
    "    # Add the colorbar with the mappable hexbin plot\n",
    "    plt.colorbar(hexbin_plot, label='Density')\n",
    "    \n",
    "    # Save or show the figure\n",
    "    plt.savefig(f'figures/umap_density_{studyID}_{marker}.pdf')\n",
    "    plt.show()"
   ]
  },
  {
   "cell_type": "markdown",
   "id": "936e5a7b-27db-4fc7-82ec-3dfb5e617ba3",
   "metadata": {},
   "source": [
    "#### Extract microglia"
   ]
  },
  {
   "cell_type": "code",
   "execution_count": null,
   "id": "2c93b4f9-14bd-4d98-a47f-6e42142f6ee7",
   "metadata": {},
   "outputs": [],
   "source": [
    "adata_m = adata[adata.obs['cell_type']=='microglial cell', :]\n",
    "adata_m"
   ]
  },
  {
   "cell_type": "markdown",
   "id": "3568f3f8-61a7-42c0-bf54-09fbb8d2d07e",
   "metadata": {},
   "source": [
    "#### Figure 7D"
   ]
  },
  {
   "cell_type": "code",
   "execution_count": null,
   "id": "163e5140-a33d-462d-b655-036f5d9c3be1",
   "metadata": {},
   "outputs": [],
   "source": [
    "# Figure 7D\n",
    "res = 0.05\n",
    "# Recluster microglia\n",
    "sc.pp.highly_variable_genes(adata_m,n_top_genes=n_hvg)\n",
    "sc.tl.pca(adata_m)\n",
    "sc.pp.neighbors(adata_m,n_neighbors=10,n_pcs=30)\n",
    "sc.tl.umap(adata_m)\n",
    "sc.tl.leiden(adata_m,resolution=res,n_iterations=2)\n",
    "sc.pl.umap(adata_m, color=['leiden'], palette='Paired',legend_loc='on data', save=f'_{studyID}_within_microglia_leiden_res{res}.pdf')    "
   ]
  },
  {
   "cell_type": "code",
   "execution_count": null,
   "id": "a58de03c-9ac7-484e-9b18-fc1946da6b1b",
   "metadata": {},
   "outputs": [],
   "source": [
    "goi=['P2RY12','TMEM119','AIF1','C1QB','CX3R1','GPR34','CSF1R','SLCO2B1','TBXAS1','DOCK8','APBB1IP','PCDH9']\n",
    "\n",
    "goi_in_adata=[gene for gene in goi if gene in adata_m.var_names]\n",
    "sc.pl.dotplot(adata_m, goi_in_adata, groupby=\"leiden\",save=f'{studyID}_within_microglia_goi_res{res}_check_microgliaMarker.pdf')"
   ]
  },
  {
   "cell_type": "markdown",
   "id": "6d1c06d2-617e-424e-a381-fdaa547a2a8f",
   "metadata": {},
   "source": [
    "#### Figure 7E Plot CD22 and BHLE41"
   ]
  },
  {
   "cell_type": "code",
   "execution_count": null,
   "id": "4debfd9a-73d5-4c57-8f6a-052bcaaf0951",
   "metadata": {},
   "outputs": [],
   "source": [
    "# Importing necessary libraries\n",
    "import scanpy as sc\n",
    "import seaborn as sns\n",
    "import matplotlib.pyplot as plt\n",
    "\n",
    "# Define the markers you are interested in\n",
    "markers = [\"CD22\",'BHLHE41']\n",
    "\n",
    "# Loop over each marker to create a density plot on UMAP\n",
    "for marker in markers:\n",
    "    # Create a UMAP scatter plot colored by marker expression\n",
    "    sc.pl.umap(adata_m, color=marker, show=False, cmap='viridis', legend_loc=None,s=20)\n",
    "    \n",
    "    # Overlay density (this step is similar to Nebulosa, but done manually)\n",
    "    ax = plt.gca()  # Get current axis\n",
    "    \n",
    "    # Extract UMAP coordinates\n",
    "    x = adata_m.obsm['X_umap'][:, 0]  # UMAP 1 coordinates\n",
    "    y = adata_m.obsm['X_umap'][:, 1]  # UMAP 2 coordinates\n",
    "    \n",
    "    # Extract expression levels of the marker\n",
    "    expression = adata_m[:, marker].X.toarray().flatten()\n",
    "    \n",
    "   # Create a 2D histogram / density plot\n",
    "    hexbin_plot = ax.hexbin(x, y, C=expression, gridsize=70, cmap='inferno', reduce_C_function=np.mean, mincnt=1)\n",
    "\n",
    "    # Set axis labels and title\n",
    "    plt.xlabel('UMAP 1')\n",
    "    plt.ylabel('UMAP 2')\n",
    "    plt.title(f'Density plot for {marker}')\n",
    "\n",
    "    # Add the colorbar with the mappable hexbin plot\n",
    "    plt.colorbar(hexbin_plot, label='Density')\n",
    "    \n",
    "    # Save or show the figure\n",
    "    plt.savefig(f'figures/umap_density_{studyID}_{marker}_within_macrolia.pdf')\n",
    "    plt.show()"
   ]
  },
  {
   "cell_type": "code",
   "execution_count": null,
   "id": "d52821a2-a05c-4794-92fb-8796be5f335a",
   "metadata": {},
   "outputs": [],
   "source": [
    "import scanpy as sc\n",
    "import seaborn as sns\n",
    "import matplotlib.pyplot as plt\n",
    "import numpy as np\n",
    "import pandas as pd\n",
    "from scipy.stats import ttest_ind\n",
    "\n",
    "# Select cells from Leiden cluster 1 and cluster 0\n",
    "cluster_1_cells = adata_m[adata_m.obs['leiden'] == '1']\n",
    "cluster_0_cells = adata_m[adata_m.obs['leiden'] == '0']\n",
    "\n",
    "# Extract expression levels of BHLHE41 and CD22 for cluster 1 and cluster 0\n",
    "bhlhe41_expression_cluster_1 = cluster_1_cells[:, 'BHLHE41'].X.toarray().flatten()\n",
    "cd22_expression_cluster_1 = cluster_1_cells[:, 'CD22'].X.toarray().flatten()\n",
    "\n",
    "bhlhe41_expression_cluster_0 = cluster_0_cells[:, 'BHLHE41'].X.toarray().flatten()\n",
    "cd22_expression_cluster_0 = cluster_0_cells[:, 'CD22'].X.toarray().flatten()\n",
    "\n",
    "# Add 0.01 to the expression levels\n",
    "bhlhe41_expression_cluster_1 += 0.01\n",
    "cd22_expression_cluster_1 += 0.01\n",
    "\n",
    "bhlhe41_expression_cluster_0 += 0.01\n",
    "cd22_expression_cluster_0 += 0.01\n",
    "\n",
    "# Calculate the value of BHLHE41/CD22\n",
    "bhlhe41_cd22_ratio_cluster_1 = bhlhe41_expression_cluster_1 / cd22_expression_cluster_1\n",
    "bhlhe41_cd22_ratio_cluster_0 = bhlhe41_expression_cluster_0 / cd22_expression_cluster_0\n",
    "\n",
    "# Perform log transformation\n",
    "bhlhe41_cd22_ratio_cluster_1_log = np.log1p(bhlhe41_cd22_ratio_cluster_1)\n",
    "bhlhe41_cd22_ratio_cluster_0_log = np.log1p(bhlhe41_cd22_ratio_cluster_0)\n",
    "\n",
    "# Create a DataFrame for plotting\n",
    "data = {\n",
    "    'BHLHE41_CD22_Ratio': np.concatenate([bhlhe41_cd22_ratio_cluster_1_log, bhlhe41_cd22_ratio_cluster_0_log]),\n",
    "    'Group': ['Cluster 1'] * len(bhlhe41_cd22_ratio_cluster_1_log) + ['Cluster 0'] * len(bhlhe41_cd22_ratio_cluster_0_log)\n",
    "}\n",
    "\n",
    "df = pd.DataFrame(data)\n",
    "\n",
    "# Calculate the median value for each group\n",
    "median_values = df.groupby('Group')['BHLHE41_CD22_Ratio'].median()\n",
    "print('Median value:',  median_values)\n",
    "\n",
    "# Plot the data\n",
    "fig, ax = plt.subplots()\n",
    "df.boxplot(column='BHLHE41_CD22_Ratio', by='Group', ax=ax)\n",
    "\n",
    "# Perform t-test to get the p-value between the two groups\n",
    "t_stat, p_value = ttest_ind(bhlhe41_cd22_ratio_cluster_1_log, bhlhe41_cd22_ratio_cluster_0_log)\n",
    "print(p_value)\n",
    "\n",
    "# Add median values as red bars\n",
    "for i, group in enumerate(median_values.index):\n",
    "    median = median_values[group]\n",
    "    ax.plot([i + 1 - 0.2, i + 1 + 0.2], [median, median], color='red', lw=3)\n",
    "\n",
    "plt.title('Boxplot of BHLHE41_CD22_Ratio by Group')\n",
    "plt.suptitle('')\n",
    "plt.xlabel('Group')\n",
    "plt.ylabel('BHLHE41_CD22_Ratio')\n",
    "plt.savefig(f'figures/{studyID}_microglia_Cluster1vs0.pdf')\n",
    "plt.show()"
   ]
  }
 ],
 "metadata": {
  "kernelspec": {
   "display_name": "py3_9_R4_30",
   "language": "python",
   "name": "py3_9_r4_30"
  },
  "language_info": {
   "codemirror_mode": {
    "name": "ipython",
    "version": 3
   },
   "file_extension": ".py",
   "mimetype": "text/x-python",
   "name": "python",
   "nbconvert_exporter": "python",
   "pygments_lexer": "ipython3",
   "version": "3.9.18"
  }
 },
 "nbformat": 4,
 "nbformat_minor": 5
}
