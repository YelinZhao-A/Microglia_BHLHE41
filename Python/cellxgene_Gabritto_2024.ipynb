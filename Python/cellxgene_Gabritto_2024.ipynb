{
 "cells": [
  {
   "cell_type": "code",
   "execution_count": null,
   "id": "3ca1221c-6f22-4996-9b74-742c59eb1fe6",
   "metadata": {},
   "outputs": [],
   "source": [
    "import requests\n",
    "import os\n",
    "import scanpy as sc\n",
    "import numpy as np\n",
    "import pandas as pd\n",
    "import scipy.stats as stats\n",
    "import seaborn as sns\n",
    "import matplotlib.pyplot as plt\n",
    "from sklearn.linear_model import LinearRegression\n",
    "import gc\n"
   ]
  },
  {
   "cell_type": "code",
   "execution_count": null,
   "id": "12b79721-f7cc-4406-b451-e9df28e39d60",
   "metadata": {},
   "outputs": [],
   "source": [
    "import scanpy as sc\n",
    "print(sc.__version__)"
   ]
  },
  {
   "cell_type": "markdown",
   "id": "ce27c7b6-61c8-4452-b979-609157c34466",
   "metadata": {},
   "source": [
    "## Set parameters and paths"
   ]
  },
  {
   "cell_type": "code",
   "execution_count": null,
   "id": "e8c150d9-6582-4902-ae01-4f75057e5aa6",
   "metadata": {},
   "outputs": [],
   "source": [
    "# Define parameters\n",
    "res = 1\n",
    "n_hvg = 2000"
   ]
  },
  {
   "cell_type": "code",
   "execution_count": null,
   "id": "3f932aca-5998-491b-a21c-e6cdce43f450",
   "metadata": {},
   "outputs": [],
   "source": [
    "# Define the input and output directories\n",
    "input_dir = 'Input_files'\n",
    "output_dir = 'Output_Gabritto_2024'\n",
    "\n",
    "# Create the output directory if it does not exist\n",
    "if not os.path.exists(input_dir):\n",
    "    os.makedirs(input_dir)\n",
    "if not os.path.exists(output_dir):\n",
    "    os.makedirs(output_dir)"
   ]
  },
  {
   "cell_type": "markdown",
   "id": "f60523a8-67b2-43e5-9950-0e619a30103e",
   "metadata": {},
   "source": [
    "## Analysis for Gabritto_2024"
   ]
  },
  {
   "cell_type": "markdown",
   "id": "c365e84a-5cee-467a-8cdb-817ab90877dd",
   "metadata": {},
   "source": [
    "### Load data"
   ]
  },
  {
   "cell_type": "code",
   "execution_count": null,
   "id": "ddc06673-efd4-4a67-afb9-45f7fc0fd319",
   "metadata": {},
   "outputs": [],
   "source": [
    "studyID = 'Gabritto_2024'\n",
    "download_link = 'https://datasets.cellxgene.cziscience.com/145aadbe-fd91-4592-bf14-3b4c644a2141.h5ad'\n",
    "new_filename = f\"Input_files/{studyID}.h5ad\"\n",
    "response = requests.get(download_link)\n",
    "with open(new_filename, 'wb') as f:\n",
    "        f.write(response.content)\n",
    "print(f\"File downloaded and saved as {new_filename}\")"
   ]
  },
  {
   "cell_type": "markdown",
   "id": "4160022f-c65c-4a79-87c8-145660f38ce6",
   "metadata": {},
   "source": [
    "### Preprocess and clustering"
   ]
  },
  {
   "cell_type": "code",
   "execution_count": null,
   "id": "b59eb280-62e7-4d18-874c-58bc09dc89ca",
   "metadata": {},
   "outputs": [],
   "source": [
    "file = 'Gabritto_2024.h5ad'\n",
    "print(f'Start process {studyID}')\n",
    "adata=sc.read_h5ad(os.path.join(input_dir,file))\n",
    "print(f'    Before process: number of obs {adata.n_obs}, number of var {adata.n_vars}')\n",
    "\n",
    "adata.layers[\"counts\"]=adata.X.copy()\n",
    "adata.var['GeneID']=adata.var.index\n",
    "adata.var.set_index('feature_name',inplace=True)\n",
    "if adata.raw is not None:\n",
    "    adata.raw.var.set_index('feature_name', inplace=True)\n",
    "else:\n",
    "    print(\"    adata.raw is None, skipping setting index.\")\n",
    "adata.var[\"mt\"]=adata.var_names.str.startswith(\"MT-\")\n",
    "\n",
    "adata.obs['nCount_RNA'] = adata.obs['Number of UMIs']\n",
    "adata.obs['nFeature_RNA'] = adata.obs['Genes detected']\n",
    "del adata.obs['Number of UMIs']\n",
    "del adata.obs['Genes detected']\n",
    "\n",
    "# QC\n",
    "print(f'    Start QC')\n",
    "sc.pp.calculate_qc_metrics(adata,qc_vars=[\"mt\"],inplace=True,log1p=True)\n",
    "sc.pp.filter_genes(adata,min_cells=3)\n",
    "adata=adata[adata.obs['nFeature_RNA']>200,:]\n",
    "adata=adata[adata.obs['pct_counts_mt']<10,:]\n",
    "adata=adata[adata.obs['nCount_RNA']>400,:]\n",
    "adata=adata[adata.obs['nCount_RNA']<60000,:]\n",
    "print(f'    After process: number of obs {adata.n_obs}, number of var {adata.n_vars}')\n",
    "\n",
    "print(f'    It is Normalized and Log-Transformed data, no need to run normalization')\n",
    "\n",
    "sc.pp.highly_variable_genes(adata,n_top_genes=n_hvg)\n",
    "sc.tl.pca(adata)\n",
    "explained_variance_ratio = adata.uns['pca']['variance_ratio']\n",
    "plt.figure(figsize=(10, 6))\n",
    "plt.plot(range(1, len(explained_variance_ratio) + 1), explained_variance_ratio, marker='o')\n",
    "plt.xlabel('Principal Component')\n",
    "plt.ylabel('Explained Variance Ratio')\n",
    "plt.title('Elbow Plot for PCA')\n",
    "plt.grid(True)\n",
    "plt.show()\n",
    "sc.pp.neighbors(adata,n_neighbors=10,n_pcs=30)\n",
    "sc.tl.umap(adata)\n",
    "sc.tl.leiden(adata,resolution=res,n_iterations=2)"
   ]
  },
  {
   "cell_type": "markdown",
   "id": "f99a59b7-aabf-4a91-8e8b-93862223063e",
   "metadata": {},
   "source": [
    "### Remove non-microglials"
   ]
  },
  {
   "cell_type": "code",
   "execution_count": null,
   "id": "b7ed2b8b-f4c8-4e21-8744-32798fa3ab8c",
   "metadata": {},
   "outputs": [],
   "source": [
    "goi=['PTPRC', 'LYVE1', 'MRC1', 'CD163','PTPRC', 'CD3E', 'CD79B', 'SKAP1', 'ETS1','PTPRC', 'FCN1', 'VCAN', 'FGR', 'CD300E','SATB1']\n",
    "goi_in_adata=[gene for gene in goi if gene in adata.var_names]\n",
    "sc.pl.dotplot(adata, goi_in_adata, groupby=\"leiden\");"
   ]
  },
  {
   "cell_type": "code",
   "execution_count": null,
   "id": "e6ba15b8-cbec-4245-b695-32acef2afc76",
   "metadata": {},
   "outputs": [],
   "source": [
    "# remove clusters\n",
    "clusters_to_remove = ['13', '15', '18']\n",
    "adata = adata[~adata.obs['leiden'].isin(clusters_to_remove), :]\n",
    "adata"
   ]
  },
  {
   "cell_type": "code",
   "execution_count": null,
   "id": "60a6d363-f936-4f38-9604-d30610f009be",
   "metadata": {},
   "outputs": [],
   "source": [
    "# Reclustering\n",
    "import scanpy as sc\n",
    "import matplotlib.pyplot as plt\n",
    "res = 0.4\n",
    "sc.pp.highly_variable_genes(adata,n_top_genes=n_hvg)\n",
    "sc.tl.pca(adata)\n",
    "sc.pp.neighbors(adata,n_neighbors=10,n_pcs=30)\n",
    "sc.tl.umap(adata)\n",
    "sc.tl.leiden(adata,resolution=res,n_iterations=2)"
   ]
  },
  {
   "cell_type": "markdown",
   "id": "9d3da820-79e6-4d95-829b-dc928a0a3470",
   "metadata": {},
   "source": [
    "### Figure 7F"
   ]
  },
  {
   "cell_type": "code",
   "execution_count": null,
   "id": "57de8510-d361-4a92-81ad-4c5df7b841f6",
   "metadata": {},
   "outputs": [],
   "source": [
    "sc.pl.umap(adata, color=['leiden'], palette='Paired',legend_loc='on data', save=f'_{studyID}_microglia_leiden_res{res}.pdf')    "
   ]
  },
  {
   "cell_type": "code",
   "execution_count": null,
   "id": "a391ed17-c26e-45b6-b552-89702cf3c8bc",
   "metadata": {},
   "outputs": [],
   "source": [
    "goi=['P2RY12','TMEM119','AIF1','C1QB','CX3R1','GPR34','CSF1R','SLCO2B1','TBXAS1','DOCK8','APBB1IP','PCDH9']\n",
    "\n",
    "# Create a new variable 'cluster2' in adata.obs\n",
    "adata.obs['cluster2'] = adata.obs['leiden'].apply(lambda x: '5' if x == '5' else 'Other_clusters')\n",
    "adata.obs['cluster2'] = adata.obs['cluster2'].astype('category')\n",
    "\n",
    "goi_in_adata=[gene for gene in goi if gene in adata.var_names]\n",
    "sc.pl.dotplot(adata, goi_in_adata, groupby=\"cluster2\",save=f'{studyID}_microglia_goi_res{res}_check_microgliaMarker.pdf')"
   ]
  },
  {
   "cell_type": "code",
   "execution_count": null,
   "id": "5a0b23de-1515-4e60-b5d0-b79dfbb8bca0",
   "metadata": {},
   "outputs": [],
   "source": [
    "# Importing necessary libraries\n",
    "import scanpy as sc\n",
    "import seaborn as sns\n",
    "import matplotlib.pyplot as plt\n",
    "\n",
    "# Define the markers you are interested in\n",
    "markers = [\"CD22\",'BHLHE41']\n",
    "\n",
    "# Loop over each marker to create a density plot on UMAP\n",
    "for marker in markers:\n",
    "    # Create a UMAP scatter plot colored by marker expression\n",
    "    sc.pl.umap(adata, color=marker, show=False, cmap='viridis', legend_loc=None,s=20)\n",
    "    \n",
    "    # Overlay density (this step is similar to Nebulosa, but done manually)\n",
    "    ax = plt.gca()  # Get current axis\n",
    "    \n",
    "    # Extract UMAP coordinates\n",
    "    x = adata.obsm['X_umap'][:, 0]  # UMAP 1 coordinates\n",
    "    y = adata.obsm['X_umap'][:, 1]  # UMAP 2 coordinates\n",
    "    \n",
    "    # Extract expression levels of the marker\n",
    "    expression = adata[:, marker].X.toarray().flatten()\n",
    "    \n",
    "   # Create a 2D histogram / density plot\n",
    "    hexbin_plot = ax.hexbin(x, y, C=expression, gridsize=70, cmap='inferno', reduce_C_function=np.mean, mincnt=1)\n",
    "\n",
    "    # Set axis labels and title\n",
    "    plt.xlabel('UMAP 1')\n",
    "    plt.ylabel('UMAP 2')\n",
    "    plt.title(f'Density plot for {marker}')\n",
    "\n",
    "    # Add the colorbar with the mappable hexbin plot\n",
    "    plt.colorbar(hexbin_plot, label='Density')\n",
    "    \n",
    "    # Save or show the figure\n",
    "    plt.savefig(f'figures/umap_density_{studyID}_{marker}_within_macrolia.pdf')\n",
    "    plt.show()"
   ]
  },
  {
   "cell_type": "markdown",
   "id": "2063223a-15a6-4a1a-93e1-b59c7b94e0c6",
   "metadata": {},
   "source": [
    "#### BHLHE41/CD22 in different clusters"
   ]
  },
  {
   "cell_type": "code",
   "execution_count": null,
   "id": "ecfa03ee-2e03-445a-9e9c-9569210be9ca",
   "metadata": {},
   "outputs": [],
   "source": [
    "import scanpy as sc\n",
    "import seaborn as sns\n",
    "import matplotlib.pyplot as plt\n",
    "import numpy as np\n",
    "import pandas as pd\n",
    "from scipy.stats import fisher_exact\n",
    "from scipy.stats import ttest_ind\n",
    "\n",
    "# Select cells from Leiden cluster 5 and all other clusters\n",
    "cluster_5_cells = adata[adata.obs['leiden'] == '5']\n",
    "other_clusters_cells = adata[adata.obs['leiden'] != '5']\n",
    "\n",
    "# Extract expression levels of BHLHE41 and CD22 for cluster 5 and other clusters\n",
    "bhlhe41_expression_cluster_5 = cluster_5_cells[:, 'BHLHE41'].X.toarray().flatten()\n",
    "cd22_expression_cluster_5 = cluster_5_cells[:, 'CD22'].X.toarray().flatten()\n",
    "\n",
    "bhlhe41_expression_other_clusters = other_clusters_cells[:, 'BHLHE41'].X.toarray().flatten()\n",
    "cd22_expression_other_clusters = other_clusters_cells[:, 'CD22'].X.toarray().flatten()\n",
    "\n",
    "# Add 0.01 to the expression levels\n",
    "bhlhe41_expression_cluster_5 += 0.01\n",
    "cd22_expression_cluster_5 += 0.01\n",
    "\n",
    "bhlhe41_expression_other_clusters += 0.01\n",
    "cd22_expression_other_clusters += 0.01\n",
    "\n",
    "# Calculate the value of BHLHE41/CD22\n",
    "bhlhe41_cd22_ratio_cluster_5 = bhlhe41_expression_cluster_5 / cd22_expression_cluster_5\n",
    "bhlhe41_cd22_ratio_other_clusters = bhlhe41_expression_other_clusters / cd22_expression_other_clusters\n",
    "\n",
    "# Perform log transformation\n",
    "bhlhe41_cd22_ratio_cluster_5_log = np.log1p(bhlhe41_cd22_ratio_cluster_5)\n",
    "bhlhe41_cd22_ratio_other_clusters_log = np.log1p(bhlhe41_cd22_ratio_other_clusters)\n",
    "\n",
    "# Create a DataFrame for plotting\n",
    "data = {\n",
    "    'BHLHE41_CD22_Ratio': np.concatenate([bhlhe41_cd22_ratio_cluster_5_log, bhlhe41_cd22_ratio_other_clusters_log]),\n",
    "    'Group': ['Cluster 5'] * len(bhlhe41_cd22_ratio_cluster_5_log) + ['Other Clusters'] * len(bhlhe41_cd22_ratio_other_clusters_log)\n",
    "}\n",
    "\n",
    "df = pd.DataFrame(data)\n",
    "\n",
    "# Calculate the median value for each group\n",
    "median_values = df.groupby('Group')['BHLHE41_CD22_Ratio'].median()\n",
    "print('Median value:',  median_values)\n",
    "\n",
    "# Plot the data\n",
    "fig, ax = plt.subplots()\n",
    "df.boxplot(column='BHLHE41_CD22_Ratio', by='Group', ax=ax)\n",
    "\n",
    "# Perform t-test to get the p-value between the two groups\n",
    "t_stat, p_value = ttest_ind(bhlhe41_cd22_ratio_cluster_5_log, bhlhe41_cd22_ratio_other_clusters_log)\n",
    "print(p_value)\n",
    "\n",
    "plt.title('Boxplot of BHLHE41_CD22_Ratio by Group')\n",
    "plt.suptitle('')\n",
    "plt.xlabel('Group')\n",
    "plt.ylabel('BHLHE41_CD22_Ratio')\n",
    "plt.savefig(f'figures/{studyID}_microglia_Cluster5vsOthers.pdf')\n",
    "plt.show()\n"
   ]
  },
  {
   "cell_type": "code",
   "execution_count": null,
   "id": "ef1157b0-7b60-4f89-8b42-658f17c2a0cf",
   "metadata": {},
   "outputs": [],
   "source": []
  },
  {
   "cell_type": "code",
   "execution_count": null,
   "id": "999c36dc-69ea-4190-aae0-e92c48e6d4eb",
   "metadata": {},
   "outputs": [],
   "source": []
  },
  {
   "cell_type": "code",
   "execution_count": null,
   "id": "7c16262f-bb89-462e-8751-9604e8ac9376",
   "metadata": {},
   "outputs": [],
   "source": []
  },
  {
   "cell_type": "code",
   "execution_count": null,
   "id": "ca7fcc79-b674-43e8-b109-d6c2cd9de08e",
   "metadata": {},
   "outputs": [],
   "source": []
  }
 ],
 "metadata": {
  "kernelspec": {
   "display_name": "py3_9_R4_30",
   "language": "python",
   "name": "py3_9_r4_30"
  },
  "language_info": {
   "codemirror_mode": {
    "name": "ipython",
    "version": 3
   },
   "file_extension": ".py",
   "mimetype": "text/x-python",
   "name": "python",
   "nbconvert_exporter": "python",
   "pygments_lexer": "ipython3",
   "version": "3.9.18"
  }
 },
 "nbformat": 4,
 "nbformat_minor": 5
}
